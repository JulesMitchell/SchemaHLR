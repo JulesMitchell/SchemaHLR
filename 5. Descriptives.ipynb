{
 "cells": [
  {
   "cell_type": "code",
   "execution_count": 3,
   "metadata": {},
   "outputs": [
    {
     "data": {
      "text/plain": [
       "'c:\\\\Users\\\\j_m289\\\\Pictures\\\\PHD\\\\7. Data Analysis\\\\HMR\\\\Code'"
      ]
     },
     "execution_count": 3,
     "metadata": {},
     "output_type": "execute_result"
    }
   ],
   "source": [
    "import os\n",
    "os.getcwd()"
   ]
  },
  {
   "cell_type": "code",
   "execution_count": 5,
   "metadata": {},
   "outputs": [
    {
     "name": "stdout",
     "output_type": "stream",
     "text": [
      "Files in 'c:\\\\Users\\\\j_m289\\\\Pictures\\\\PHD\\\\7. Data Analysis\\\\HMR\\\\Clean': ['.Rhistory', '09F2F820', 'AnorexiaDataset_Final.csv', 'BingeEatingDataset_Final.csv', 'BulimiaDataset_Final.csv', 'HealthyDataset_Final.csv', 'OsfedDataset_Final.csv']\n"
     ]
    }
   ],
   "source": [
    "#Load packages\n",
    "import os\n",
    "import pandas as pd #pandas for data frame management and descriptives (in addition to numpy)\n",
    "import seaborn as sns #seaborn for visualisation (MATPLOTLIB also)\n",
    "import scipy as sci \n",
    "from scipy import stats\n",
    "from scipy.stats import iqr \n",
    "from statannotations.Annotator import Annotator\n",
    "import numpy as np\n",
    "import matplotlib.pyplot as plt\n",
    "import pingouin as png \n",
    "import xlsxwriter\n",
    "OUTDATED_IGNORE=1\n",
    "\n",
    "os.chdir('c:\\\\Users\\\\j_m289\\\\Pictures\\\\PHD\\\\7. Data Analysis\\\\HMR\\\\Clean')  # Directory set to 'clean' folder\n",
    "\n",
    "#check and set working directory\n",
    "cwd = os.getcwd()  # Get the current working directory (cwd)\n",
    "files = os.listdir(cwd)  # Get all the files in that directory\n",
    "print(\"Files in %r: %s\" % (cwd, files))\n",
    "\n",
    "#try to use relative path for files (tied to directory and nesting within folders)\n",
    "path = \"/Users/j_m289\\Pictures\\PHD\\15. Data Analysis\\HMR\\Clean\"\n",
    "start = \"/Users/j_m289\"\n",
    "relative_path = os.path.relpath(path, start)\n",
    "\n",
    "# Set plot themes\n",
    "sns.set_theme(style=\"whitegrid\")"
   ]
  },
  {
   "attachments": {},
   "cell_type": "markdown",
   "metadata": {},
   "source": [
    "# Descriptive Statistics Across Groups\n",
    "- Functions defined for descriptive stats of continous and categorical variables.\n",
    "- Lists defined for continous and categorical variables."
   ]
  },
  {
   "cell_type": "code",
   "execution_count": 6,
   "metadata": {},
   "outputs": [],
   "source": [
    "AN = pd.read_csv('AnorexiaDataset_Final.csv', index_col=[0]) # Anorexia Nervosa\n",
    "BN = pd.read_csv('BulimiaDataset_Final.csv', index_col=[0]) # Bulimia Nervosa\n",
    "BED = pd.read_csv('BingeEatingDataset_Final.csv', index_col=[0]) # Binge Eating Disorder\n",
    "OSFED = pd.read_csv('OsfedDataset_Final.csv', index_col=[0]) # OSFED\n",
    "healthy = pd.read_csv('HealthyDataset_Final.csv', index_col=[0]) # Healthy\n",
    "\n",
    "# Define columns from dataset needed for analysis by variable type\n",
    "#Continuous \n",
    "correlations  =['Age', 'BMI','EmReg_CR','EmReg_ES','CFI_Alt', 'CFI_Ctrl','YPSQ_EFSA','YPSQ_S','YPSQ_EC','YPSQ_O','YPSQ_EOS','YPSQ_SCRE','YPSQ_DS','YPSQ_SB','YPSQ_HSC','EDE_Q_R','EDE_Q_W',\\\n",
    "                'EDE_Q_S','EDE_Q_E', 'EDE_Q_G']\n",
    "\n",
    "demo_cont = ['Age','Height','Weight','BMI']\n",
    "\n",
    "scales_cont = ['Appearance_Satisfact','YPSQ_EFSA','YPSQ_S','YPSQ_EC','YPSQ_O','YPSQ_EOS','YPSQ_SCRE','YPSQ_DS','YPSQ_SB','YPSQ_HSC','EmReg_CR','EmReg_ES','EDE_Q_R','EDE_Q_W',\\\n",
    "    'EDE_Q_S','EDE_Q_E', 'EDE_Q_G','CFI_Alt', 'CFI_Ctrl']\n",
    "\n",
    "model = ['EDE_Q_G','YPSQ_EFSA','YPSQ_S','YPSQ_EC','YPSQ_O','YPSQ_EOS','YPSQ_SCRE','YPSQ_DS','YPSQ_SB','YPSQ_HSC','EmReg_CR','EmReg_ES','CFI_Alt', 'CFI_Ctrl']\n",
    "\n",
    "#Categorical\n",
    "demo_cat = ['Sex','Education','Nationality','MH_Diag','EatD','MDD','BiP','SAD','GAD','PaD','PTSD','SUD','OCD','BDD','BPD','ADHD','Other','MH_ND','MHBurden','ED_Diag',\\\n",
    "    'ED_subtype','past_ED_Diag','pastAN','pastBN','pastBED','partOSFED','ED_treatment']\n",
    "\n",
    "#Define categorical variable master dictionary\n",
    "nested_dict = { 'Sex': {'Male': 1, 'Female': 2, 'ND': 3},\n",
    "                'Education': {'DNC Gr10': 1, 'Grd10': 2, 'Grd12':3, 'VET': 4, 'Bchl': 5, 'Mast':6,'Phd':7},\n",
    "                'Nationality': {'Australian': 1, 'New Zealand': 2, 'North American':3, 'South American': 4, 'British': 5, 'Chinese':6,'Other':7, 'Canadian':8},\n",
    "                'MH_Diag': {'Yes': 1, 'No': 2, 'ND':3},\n",
    "                'EatD': {'No': 0, 'Yes': 1},\n",
    "                'MDD': {'No': 0, 'Yes': 1},\n",
    "                'BiP': {'No': 0, 'Yes': 1},\n",
    "                'SAD': {'No': 0, 'Yes': 1},\n",
    "                'GAD': {'No': 0, 'Yes': 1},\n",
    "                'PaD': {'No': 0, 'Yes': 1},\n",
    "                'PTSD': {'No': 0, 'Yes': 1},\n",
    "                'SUD': {'No': 0, 'Yes': 1},\n",
    "                'OCD': {'No': 0, 'Yes': 1},\n",
    "                'BDD': {'No': 0, 'Yes': 1},\n",
    "                'BPD': {'No': 0, 'Yes': 1},\n",
    "                'ADHD': {'No': 0, 'Yes': 1},\n",
    "                'Other': {'No': 0, 'Yes': 1},\n",
    "                'MH_ND': {'No': 0, 'Yes': 1},\n",
    "                'MHBurden': {'None': 0, 'One': 1, 'Two':2, 'Three': 3, 'Four': 4, 'Five':5, 'Six': 6, 'Seven': 7, 'Eight':8, 'Nine': 9, 'Ten': 10, 'Eleven':11, 'Twelve': 12, 'Thirteen':13},\n",
    "                'ED_Diag': {'Yes': 1, 'No': 2, 'ND':3},\n",
    "                'ED_subtype': {'AN': 1, 'BN':2, 'BED': 3, 'OSFED': 4, 'ND':5},\n",
    "                'past_ED_Diag': {'Yes': 1, 'No': 2, 'ND':3},\n",
    "                'pastAN': {'No': 0, 'Yes': 1},\n",
    "                'pastBN': {'No': 0, 'Yes': 1},\n",
    "                'pastBED': {'No': 0, 'Yes': 1},\n",
    "                'partOSFED': {'No': 0, 'Yes': 1},\n",
    "                'ED_treatment': {'Previously': 1, 'Current': 2, 'Never':3, 'ND': 4}\n",
    "                }\n",
    "\n",
    "# Functions\n",
    "def descriptive_stats(data, name):\n",
    "    # create a dataframe to store the results\n",
    "    results = pd.DataFrame(columns=['Name','Mean (SD)','Median (IQR)','Mode','Variance', 'Min', 'Max','Range'])\n",
    "    # create a dictionary to store the statistics\n",
    "    stats = {'Name': name, 'Mean (SD)': str(data.mean().round(2)) + ' (' + str(data.std().round(2)) + ')', 'Median (IQR)': str(data.median().round(2)) + ' (' + str(iqr(data).round(2)) + ')', 'Mode': data.mode().values[0], 'Variance': data.var().round(2),\\\n",
    "    'Min': data.min(), 'Max': data.max(), 'Range': data.max() - data.min()}\n",
    "    # append the dictionary to the results dataframe\n",
    "    return results.append(stats, ignore_index=True) \n",
    "\n",
    "def descriptive_stats_freq(data, name, dict):\n",
    "    results = pd.DataFrame(columns=['Keys','Count (%)'])\n",
    "    for key, val in dict.items():\n",
    "        count = len(data[data == val])\n",
    "        percent = round(count / len(data)*100,2)\n",
    "        results = results.append({'Keys': key, 'Count (%)': str(count) + ' (' +  str(percent) + ')',}, ignore_index=True)\n",
    "    display(name, results)"
   ]
  },
  {
   "cell_type": "code",
   "execution_count": 7,
   "metadata": {},
   "outputs": [],
   "source": [
    "# The following creates dataset with all groups and assigns a column with sub-type\n",
    "# Create columns to assign string and value (used by ANOVA as between-subjects factor)\n",
    "AN['subtype'] = 'AN'\n",
    "BN['subtype'] = 'BN'\n",
    "BED['subtype'] = 'BED'\n",
    "OSFED['subtype'] = 'OSFED'\n",
    "healthy['subtype'] = 'Healthy'\n",
    "\n",
    "AN['subtype#'] = 1\n",
    "BN['subtype#'] = 2\n",
    "BED['subtype#'] = 3\n",
    "OSFED['subtype#'] = 4\n",
    "healthy['subtype#'] = 5\n",
    "\n",
    "# Concatenate datasets and set keys\n",
    "full_dataset = pd.concat([AN, BN, BED, OSFED, healthy], keys=['AN', 'BN', 'BED', 'OSFED', 'healthy'])\n",
    "\n",
    "# Change directory to save outputs\n",
    "os.chdir('c:\\\\Users\\\\j_m289\\\\Pictures\\\\PHD\\\\7. Data Analysis')"
   ]
  },
  {
   "cell_type": "code",
   "execution_count": null,
   "metadata": {},
   "outputs": [],
   "source": [
    "full_dataset.to_csv('FullDataset.csv', index=True) #save dataset"
   ]
  },
  {
   "attachments": {},
   "cell_type": "markdown",
   "metadata": {},
   "source": [
    "# Demographics Categories"
   ]
  },
  {
   "cell_type": "code",
   "execution_count": null,
   "metadata": {},
   "outputs": [],
   "source": [
    "for x in demo_cat:\n",
    "      descriptive_stats_freq(AN[x], x, nested_dict[x])"
   ]
  },
  {
   "cell_type": "code",
   "execution_count": null,
   "metadata": {},
   "outputs": [],
   "source": [
    "for x in demo_cat:\n",
    "    descriptive_stats_freq(BN[x], x, nested_dict[x])"
   ]
  },
  {
   "cell_type": "code",
   "execution_count": null,
   "metadata": {},
   "outputs": [],
   "source": [
    "for x in demo_cat:\n",
    "    descriptive_stats_freq(BED[x], x, nested_dict[x])"
   ]
  },
  {
   "cell_type": "code",
   "execution_count": null,
   "metadata": {},
   "outputs": [],
   "source": [
    "for x in demo_cat:\n",
    "    descriptive_stats_freq(OSFED[x], x, nested_dict[x])"
   ]
  },
  {
   "cell_type": "code",
   "execution_count": null,
   "metadata": {},
   "outputs": [],
   "source": [
    "for x in demo_cat:\n",
    "    descriptive_stats_freq(healthy[x], x, nested_dict[x])"
   ]
  },
  {
   "attachments": {},
   "cell_type": "markdown",
   "metadata": {},
   "source": [
    "# Demographics (Continous)"
   ]
  },
  {
   "cell_type": "code",
   "execution_count": null,
   "metadata": {},
   "outputs": [],
   "source": [
    "# Anorexia Nervosa\n",
    "AN_demo_cont_list = [] # create a list to store the results of each demographic continous variables\n",
    "for x in demo_cont:\n",
    "    result = descriptive_stats(AN[x], x)\n",
    "    AN_demo_cont_list.append(result)\n",
    "\n",
    "# concatenate the list of dataframes into a single dataframe\n",
    "AN_demo_cont_output = pd.concat(AN_demo_cont_list)\n",
    "display(AN_demo_cont_output)\n",
    "\n",
    "#Bulimia Nervosa\n",
    "BN_demo_cont_list = []\n",
    "for x in demo_cont:\n",
    "    result = descriptive_stats(BN[x], x)\n",
    "    BN_demo_cont_list.append(result)\n",
    "\n",
    "# concatenate the list of dataframes into a single dataframe\n",
    "BN_demo_cont_output = pd.concat(BN_demo_cont_list)\n",
    "display(BN_demo_cont_output)\n",
    "\n",
    "#Binge Eating Disorder\n",
    "BED_demo_cont_list = []\n",
    "for x in demo_cont:\n",
    "    result = descriptive_stats(BED[x], x)\n",
    "    BED_demo_cont_list.append(result)\n",
    "\n",
    "# concatenate the list of dataframes into a single dataframe\n",
    "BED_demo_cont_output = pd.concat(BED_demo_cont_list)\n",
    "display(BED_demo_cont_output)\n",
    "\n",
    "#OSFED\n",
    "OSFED_demo_cont_list = []\n",
    "for x in demo_cont:\n",
    "    result = descriptive_stats(OSFED[x], x)\n",
    "    OSFED_demo_cont_list.append(result)\n",
    "\n",
    "# concatenate the list of dataframes into a single dataframe\n",
    "OSFED_demo_cont_output = pd.concat(OSFED_demo_cont_list)\n",
    "display(OSFED_demo_cont_output)\n",
    "\n",
    "#Healthy\n",
    "healthy_demo_cont_list = []\n",
    "for x in demo_cont:\n",
    "    result = descriptive_stats(healthy[x], x)\n",
    "    healthy_demo_cont_list.append(result)\n",
    "\n",
    "# concatenate the list of dataframes into a single dataframe\n",
    "healthy_demo_cont_output = pd.concat(healthy_demo_cont_list)\n",
    "display(healthy_demo_cont_output)"
   ]
  },
  {
   "cell_type": "code",
   "execution_count": null,
   "metadata": {},
   "outputs": [],
   "source": [
    "writer = pd.ExcelWriter('Demo_cont_inferential.xlsx', engine='xlsxwriter')\n",
    "significant_comp = []\n",
    "\n",
    "# One-way comparisons using Welch method (unequal N and heterogeneity), box plots and post-hoc comparisons for demo cont variables\n",
    "for i in demo_cont:\n",
    "    # One way ANOVA \n",
    "    welch = png.welch_anova(data = full_dataset, dv = str(i), between='subtype')\n",
    "    png.print_table(welch, floatfmt='.3f')\n",
    "\n",
    "    # Post Hoc (if significant)\n",
    "    posthoc = png.pairwise_gameshowell(data = full_dataset, dv = str(i), between='subtype', effsize='eta-square')\n",
    "    png.print_table(posthoc, floatfmt='.3f')\n",
    "    temp_name = i + ' Post Hoc'\n",
    "    temp_figname = i + ' Figure'\n",
    "\n",
    "    # Check for significant p-value and append to list\n",
    "    for a, b, p in zip(posthoc.A, posthoc.B, posthoc.pval):\n",
    "        if p < 0.05:\n",
    "            comparison_name = f\"({a} , {b})\"\n",
    "            significant_comp.append(comparison_name)\n",
    "    \n",
    "    # post_hoc_temp = ', '.join(str(significant_comp))\n",
    "    print(significant_comp)\n",
    "\n",
    "    # Box and whisker plot by group\n",
    "    fig, ax = plt.subplots(1, 1)\n",
    "    ax.boxplot([AN[i], BED[i], BN[i], OSFED[i], healthy[i]])\n",
    "    ax.set_xticklabels(['AN', 'BED', 'BN', 'OSFED', 'healthy']) \n",
    "    ax.set_ylabel(i) \n",
    "    plt.show()\n",
    "    \n",
    "    x = full_dataset['subtype']\n",
    "    order = ['AN', 'BN', 'BED', 'OSFED', 'Healthy']\n",
    "    boxplot = sns.boxplot(data=full_dataset, x=x, y=i, hue=None, order=None, hue_order=None, orient=None)\n",
    "    figsave = i + '_boxplot.png'\n",
    "    plt.savefig(figsave)\n",
    "    plt.show()\n",
    "    \n",
    "    # annotator = Annotator(ax, significant_comp, data=full_dataset, x=x, y=i, order=order)\n",
    "    # annotator.configure(test=\"Mann-Whitney\", text_format=\"simple\")\n",
    "    # annotator.apply_and_annotate()\n",
    "    \n",
    "    # save results to a separate sheet in the Excel file\n",
    "    welch.to_excel(writer, sheet_name=i, index=True)\n",
    "    posthoc.to_excel(writer, sheet_name=temp_name, index=True)\n",
    "    worksheet = writer.sheets[temp_name]\n",
    "    worksheet.insert_image('C15',figsave)\n",
    "    # boxplot.to_excel(writer, sheet_name=temp_figname)\n",
    "\n",
    "# save the Excel file\n",
    "writer.save()\n",
    "writer.close()"
   ]
  },
  {
   "attachments": {},
   "cell_type": "markdown",
   "metadata": {},
   "source": [
    "# Scale Variables"
   ]
  },
  {
   "cell_type": "code",
   "execution_count": null,
   "metadata": {},
   "outputs": [],
   "source": [
    "# Anorexia Nervosa\n",
    "AN_scales_cont_list = [] # create a list to store the results of each continous predictor and dependent variable\n",
    "for x in scales_cont:\n",
    "    result = descriptive_stats(AN[x], x)\n",
    "    AN_scales_cont_list.append(result)\n",
    "\n",
    "# concatenate the list of dataframes into a single dataframe\n",
    "AN_scales_cont_output = pd.concat(AN_scales_cont_list)\n",
    "display(AN_scales_cont_output)\n",
    "\n",
    "#Bulimia Nervosa\n",
    "BN_scales_cont_list = []\n",
    "for x in scales_cont:\n",
    "    result = descriptive_stats(BN[x], x)\n",
    "    BN_scales_cont_list.append(result)\n",
    "\n",
    "# concatenate the list of dataframes into a single dataframe\n",
    "BN_scales_cont_output = pd.concat(BN_scales_cont_list)\n",
    "display(BN_scales_cont_output)\n",
    "\n",
    "#Binge Eating Disorder\n",
    "BED_scales_cont_list = []\n",
    "for x in scales_cont:\n",
    "    result = descriptive_stats(BED[x], x)\n",
    "    BED_scales_cont_list.append(result)\n",
    "\n",
    "# concatenate the list of dataframes into a single dataframe\n",
    "BED_scales_cont_output = pd.concat(BED_scales_cont_list)\n",
    "display(BED_scales_cont_output)\n",
    "\n",
    "#OSFED\n",
    "OSFED_scales_cont_list = []\n",
    "for x in scales_cont:\n",
    "    result = descriptive_stats(OSFED[x], x)\n",
    "    OSFED_scales_cont_list.append(result)\n",
    "\n",
    "# concatenate the list of dataframes into a single dataframe\n",
    "OSFED_scales_cont_output = pd.concat(OSFED_scales_cont_list)\n",
    "display(OSFED_scales_cont_output)\n",
    "\n",
    "#Healthy\n",
    "healthy_scales_cont_list = []\n",
    "for x in scales_cont:\n",
    "    result = descriptive_stats(healthy[x], x)\n",
    "    healthy_scales_cont_list.append(result)\n",
    "\n",
    "# concatenate the list of dataframes into a single dataframe\n",
    "healthy_scales_cont_output = pd.concat(healthy_scales_cont_list)\n",
    "display(healthy_scales_cont_output)"
   ]
  },
  {
   "cell_type": "code",
   "execution_count": null,
   "metadata": {},
   "outputs": [],
   "source": [
    "writer = pd.ExcelWriter('Scales_cont_inferential.xlsx', engine='xlsxwriter')\n",
    "significant_comp = []\n",
    "# One-way comparisons using Welch method (unequal N and heterogeneity), box plots and post-hoc comparisons for demo cont variables\n",
    "for i in scales_cont:\n",
    "    # One way ANOVA \n",
    "    welch = png.welch_anova(data = full_dataset, dv = str(i), between='subtype')\n",
    "    png.print_table(welch, floatfmt='.3f')\n",
    "\n",
    "    # Post Hoc (if significant)\n",
    "    # print(welch.pcorr)\n",
    "    # if welch.pcorr < 0.05:\n",
    "    posthoc = png.pairwise_gameshowell(data = full_dataset, dv = str(i), between='subtype', effsize='eta-square')\n",
    "    png.print_table(posthoc, floatfmt='.3f')\n",
    "    temp_name = i + ' Post Hoc'\n",
    "    temp_figname = i + ' Figure'\n",
    "\n",
    "    # Check for significant p-value and append to list\n",
    "    for a, b, p in zip(posthoc.A, posthoc.B, posthoc.pval):\n",
    "        if p < 0.05:\n",
    "            comparison_name = f\"({a} , {b})\"\n",
    "            significant_comp.append(comparison_name)\n",
    "    \n",
    "    # post_hoc_temp = ', '.join(str(significant_comp))\n",
    "    print(significant_comp)\n",
    "\n",
    "    # Box and whisker plot by group\n",
    "    fig, ax = plt.subplots(1, 1)\n",
    "    ax.boxplot([AN[i], BED[i], BN[i], OSFED[i], healthy[i]])\n",
    "    ax.set_xticklabels(['AN', 'BED', 'BN', 'OSFED', 'healthy']) \n",
    "    ax.set_ylabel(i) \n",
    "    plt.show()\n",
    "    \n",
    "    x = full_dataset['subtype']\n",
    "    order = ['AN', 'BN', 'BED', 'OSFED', 'Healthy']\n",
    "    boxplot = sns.boxplot(data=full_dataset, x=x, y=i, hue=None, order=None, hue_order=None, orient=None)\n",
    "    figsave = i + '_boxplot.png'\n",
    "    plt.savefig(figsave)\n",
    "    plt.show()\n",
    "    \n",
    "    # annotator = Annotator(ax, significant_comp, data=full_dataset, x=x, y=i, order=order)\n",
    "    # annotator.configure(test=\"Mann-Whitney\", text_format=\"simple\")\n",
    "    # annotator.apply_and_annotate()\n",
    "    \n",
    "    # save results to a separate sheet in the Excel file\n",
    "    welch.to_excel(writer, sheet_name=i, index=True)\n",
    "    posthoc.to_excel(writer, sheet_name=temp_name, index=True)\n",
    "    worksheet = writer.sheets[temp_name]\n",
    "    worksheet.insert_image('C15',figsave)\n",
    "    # boxplot.to_excel(writer, sheet_name=temp_figname)\n",
    "\n",
    "# save the Excel file\n",
    "writer.save()\n",
    "writer.close()"
   ]
  },
  {
   "attachments": {},
   "cell_type": "markdown",
   "metadata": {},
   "source": [
    "# Correlations"
   ]
  },
  {
   "cell_type": "code",
   "execution_count": 36,
   "metadata": {},
   "outputs": [
    {
     "name": "stderr",
     "output_type": "stream",
     "text": [
      "c:\\Users\\j_m289\\AppData\\Local\\Programs\\Python\\Python39\\lib\\site-packages\\xlsxwriter\\workbook.py:339: UserWarning: Calling close() on already closed file.\n",
      "  warn(\"Calling close() on already closed file.\")\n"
     ]
    }
   ],
   "source": [
    "# 24/01/2024 - Updated code to use pairwisecorr instead of rcorr (in line with reviewer comments)\n",
    "\n",
    "writer = pd.ExcelWriter('Correlations.xlsx', engine='xlsxwriter')\n",
    "list = full_dataset['subtype'].unique()\n",
    "for v in list:\n",
    "    data = full_dataset.loc[full_dataset['subtype'] == v]\n",
    "    # Correlation matrix for model variables (excluding sex)\n",
    "    output = png.pairwise_corr(data, columns=correlations, method='pearson', padjust='bonf').round(4)\n",
    "    output = output.drop(axis=1, columns=['CI95%','alternative',\"method\", 'n', 'p-adjust', 'BF10', 'power'])\n",
    "    # Export dataframe to excel in different sheets\n",
    "    output.to_excel(writer, sheet_name='Model Predictors' + v , index=True)\n",
    "    \n",
    "writer.save()\n",
    "writer.close()"
   ]
  },
  {
   "cell_type": "code",
   "execution_count": null,
   "metadata": {},
   "outputs": [],
   "source": [
    "# The following is draft code for semi-partial correlation calculation\n",
    "scales_cont_copy = scales_cont\n",
    "Temp_scales = scales_cont_copy.remove('EDE_Q_G')\n",
    "for subtype in list:\n",
    "    data = full_dataset[full_dataset['subtype'] == subtype]\n",
    "    for i in scales_cont:\n",
    "        covar = [x for x in scales_cont if x != i]\n",
    "        print(png.partial_corr(data= data, x=i, y='EDE_Q_G', x_covar=covar).round(3))"
   ]
  }
 ],
 "metadata": {
  "kernelspec": {
   "display_name": "Python 3",
   "language": "python",
   "name": "python3"
  },
  "language_info": {
   "codemirror_mode": {
    "name": "ipython",
    "version": 3
   },
   "file_extension": ".py",
   "mimetype": "text/x-python",
   "name": "python",
   "nbconvert_exporter": "python",
   "pygments_lexer": "ipython3",
   "version": "3.9.13"
  },
  "orig_nbformat": 4,
  "vscode": {
   "interpreter": {
    "hash": "29e547e41c87afeb9696b6464f69a6550dcc235cb1c66aa90cdc209960d5915f"
   }
  }
 },
 "nbformat": 4,
 "nbformat_minor": 2
}
