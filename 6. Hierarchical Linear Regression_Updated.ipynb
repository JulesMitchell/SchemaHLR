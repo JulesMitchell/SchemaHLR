{
 "cells": [
  {
   "cell_type": "code",
   "execution_count": null,
   "metadata": {},
   "outputs": [],
   "source": [
    "import os\n",
    "import statsmodels as sm\n",
    "import pandas as pd #pandas for data frame management and descriptives (in addition to numpy)\n",
    "import numpy as np\n",
    "from HLR import HierarchicalLinearRegression\n",
    "\n",
    "#check and set working directory\n",
    "cwd = os.getcwd()  # Get the current working directory (cwd)\n",
    "files = os.listdir(cwd)  # Get all the files in that directory\n",
    "\n",
    "os.chdir('c:\\\\Users\\\\j_m289\\\\Pictures\\\\PHD\\\\7. Data Analysis\\HMR\\Clean')  # Directory set to 'clean' folder\n",
    "\n",
    "#try to use relative path for files (tied to directory and nesting within folders)\n",
    "path = \"/Users/j_m289\\Pictures\\PHD\\7. Data Analysis\\HMR\\Clean\"\n",
    "  \n",
    "start = \"/Users/j_m289\"\n",
    "\n",
    "relative_path = os.path.relpath(path, start)\n",
    "\n",
    "print(cwd)\n",
    "\n",
    "# Load datasets\n",
    "anorexia = pd.read_csv('AnorexiaDataset_Final.csv')\n",
    "bulimia = pd.read_csv('BulimiaDataset_Final.csv')\n",
    "BingeEating = pd.read_csv('BingeEatingDataset_Final.csv')\n",
    "OSFED = pd.read_csv('OSFEDDataset_Final.csv')\n",
    "healthy = pd.read_csv('healthyDataset_Final.csv')\n",
    "\n",
    "# Recode Education to code education less than grade 12 as 0 and above as 1\n",
    "anorexia['Education2'] = anorexia['Education'].apply(lambda x: 1 if x >= 1 and x <= 2 else 2)\n",
    "bulimia['Education2'] = bulimia['Education'].apply(lambda x: 1 if x >= 1 and x <= 2 else 2)\n",
    "BingeEating['Education2'] = BingeEating['Education'].apply(lambda x: 1 if x >= 1 and x <= 2 else 2)\n",
    "OSFED['Education2'] = OSFED['Education'].apply(lambda x: 1 if x >= 1 and x <= 2 else 2)\n",
    "healthy['Education2'] = healthy['Education'].apply(lambda x: 1 if x >= 1 and x <= 2 else 2)\n",
    "\n",
    "# Set directory to 'Data Output'\n",
    "os.chdir('c:\\\\Users\\\\j_m289\\\\Pictures\\\\PHD\\\\7. Data Analysis\\HMR\\Data Output')  "
   ]
  },
  {
   "attachments": {},
   "cell_type": "markdown",
   "metadata": {},
   "source": [
    "# Anorexia Nervosa"
   ]
  },
  {
   "cell_type": "markdown",
   "metadata": {},
   "source": [
    "### Model 1"
   ]
  },
  {
   "cell_type": "code",
   "execution_count": null,
   "metadata": {},
   "outputs": [],
   "source": [
    "# Model 1\n",
    "X = {1: ['Age', 'Sex', 'BMI'], \n",
    "     2: ['Age', 'Sex', 'BMI', 'EmReg_CR', 'EmReg_ES','CFI_Alt', 'CFI_Ctrl'], \n",
    "     3: ['Age', 'Sex', 'BMI','EmReg_CR', 'EmReg_ES','CFI_Alt', 'CFI_Ctrl','YPSQ_EFSA', \n",
    "\t     'YPSQ_S', 'YPSQ_EC', 'YPSQ_O','YPSQ_EOS', 'YPSQ_SCRE', 'YPSQ_DS', 'YPSQ_SB', 'YPSQ_HSC']}\n",
    "\n",
    "# Define the outcome variable\n",
    "y = 'EDE_Q_G'\n",
    "\n",
    "# Initiate the HLR object (missing_data and ols_params are optional parameters)\n",
    "hreg = HierarchicalLinearRegression(anorexia, X, y)"
   ]
  },
  {
   "cell_type": "code",
   "execution_count": null,
   "metadata": {},
   "outputs": [],
   "source": [
    "# Output Summary\n",
    "anorexia_results = hreg.summary()\n",
    "#anorexia_results.to_csv('anorexia_results.csv')"
   ]
  },
  {
   "cell_type": "code",
   "execution_count": null,
   "metadata": {},
   "outputs": [],
   "source": [
    "# Diagnostics\n",
    "diagnostics = hreg.diagnostics(verbose=True)\n",
    "#diagnostics = pd.DataFrame.from_dict(diagnostics)\n",
    "#diagnostics.to_csv('anorexia_diagnostics.csv')"
   ]
  },
  {
   "cell_type": "code",
   "execution_count": null,
   "metadata": {},
   "outputs": [],
   "source": [
    "# Plots\n",
    "hreg.plot_studentized_residuals_vs_fitted()\n",
    "hreg.plot_qq_residuals()\n",
    "hreg.plot_influence()\n",
    "hreg.plot_std_residuals()\n",
    "hreg.plot_histogram_std_residuals()\n",
    "hreg.plot_partial_regression()"
   ]
  },
  {
   "cell_type": "markdown",
   "metadata": {},
   "source": [
    "### Shuffled Model"
   ]
  },
  {
   "cell_type": "code",
   "execution_count": null,
   "metadata": {},
   "outputs": [],
   "source": [
    "# Shuffled to verify spatial autocorrelation\n",
    "anorexia_shuffled = anorexia.sample(frac=1)"
   ]
  },
  {
   "cell_type": "code",
   "execution_count": null,
   "metadata": {},
   "outputs": [],
   "source": [
    "# Shuffled Model 1\n",
    "X = {1: ['Age', 'Sex', 'BMI'], \n",
    "     2: ['Age', 'Sex', 'BMI', 'EmReg_CR', 'EmReg_ES','CFI_Alt', 'CFI_Ctrl'], \n",
    "     3: ['Age', 'Sex', 'BMI','EmReg_CR', 'EmReg_ES','CFI_Alt', 'CFI_Ctrl','YPSQ_EFSA', \n",
    "\t     'YPSQ_S', 'YPSQ_EC', 'YPSQ_O','YPSQ_EOS', 'YPSQ_SCRE', 'YPSQ_DS', 'YPSQ_SB', 'YPSQ_HSC']}\n",
    "\n",
    "# Define the outcome variable\n",
    "y = 'EDE_Q_G'\n",
    "\n",
    "# Initiate the HLR object (missing_data and ols_params are optional parameters)\n",
    "hreg = HierarchicalLinearRegression(anorexia_shuffled, X, y, ols_params=None)"
   ]
  },
  {
   "cell_type": "code",
   "execution_count": null,
   "metadata": {},
   "outputs": [],
   "source": [
    "# Output Summary\n",
    "anorexia_shuffled_results = hreg.summary()\n",
    "anorexia_shuffled_results.to_csv('anorexia_shuffled_results.csv')"
   ]
  },
  {
   "cell_type": "code",
   "execution_count": null,
   "metadata": {},
   "outputs": [],
   "source": [
    "# Diagnostics\n",
    "diagnostics = hreg.diagnostics(verbose=True)\n",
    "diagnostics = pd.DataFrame.from_dict(diagnostics)\n",
    "diagnostics.to_csv('anorexia_shuffled_diagnostics.csv')"
   ]
  },
  {
   "attachments": {},
   "cell_type": "markdown",
   "metadata": {},
   "source": [
    "# Bulimia Nervosa"
   ]
  },
  {
   "cell_type": "code",
   "execution_count": null,
   "metadata": {},
   "outputs": [],
   "source": [
    "# Bulimia Nervosa\n",
    "X = {1: ['Age', 'Sex', 'BMI'], \n",
    "     2: ['Age', 'Sex', 'BMI', 'EmReg_CR', 'EmReg_ES','CFI_Alt', 'CFI_Ctrl'], \n",
    "     3: ['Age', 'Sex', 'BMI', 'EmReg_CR', 'EmReg_ES','CFI_Alt', 'CFI_Ctrl','YPSQ_EFSA', \n",
    "\t\t'YPSQ_S', 'YPSQ_EC', 'YPSQ_O','YPSQ_EOS', 'YPSQ_SCRE', 'YPSQ_DS', 'YPSQ_SB', 'YPSQ_HSC']}\n",
    "\n",
    "# Define the outcome variable\n",
    "y = 'EDE_Q_G'\n",
    "\n",
    "# Initiate the HLR object (missing_data and ols_params are optional parameters)\n",
    "hreg = HierarchicalLinearRegression(bulimia, X, y, ols_params=None)"
   ]
  },
  {
   "cell_type": "code",
   "execution_count": null,
   "metadata": {},
   "outputs": [],
   "source": [
    "# Output Summary\n",
    "bulimia_results = hreg.summary()\n",
    "bulimia_results.to_csv('bulimia_results.csv')"
   ]
  },
  {
   "cell_type": "code",
   "execution_count": null,
   "metadata": {},
   "outputs": [],
   "source": [
    "# Diagnostics\n",
    "diagnostics = hreg.diagnostics(verbose=True)\n",
    "diagnostics = pd.DataFrame.from_dict(diagnostics)\n",
    "diagnostics.to_csv('bulimia_diagnostics.csv')"
   ]
  },
  {
   "cell_type": "code",
   "execution_count": null,
   "metadata": {},
   "outputs": [],
   "source": [
    "# Plots\n",
    "hreg.plot_studentized_residuals_vs_fitted()\n",
    "hreg.plot_qq_residuals()\n",
    "hreg.plot_influence()\n",
    "hreg.plot_std_residuals()\n",
    "hreg.plot_histogram_std_residuals()\n",
    "hreg.plot_partial_regression()"
   ]
  },
  {
   "attachments": {},
   "cell_type": "markdown",
   "metadata": {},
   "source": [
    "# Binge Eating"
   ]
  },
  {
   "cell_type": "markdown",
   "metadata": {},
   "source": [
    "### Model 1"
   ]
  },
  {
   "cell_type": "code",
   "execution_count": null,
   "metadata": {},
   "outputs": [],
   "source": [
    "#Drop highly multi-collinear variables\n",
    "BingeEating_dropped = BingeEating.drop(columns=['YPSQ_EFSA','YPSQ_O','YPSQ_S','YPSQ_SB'])"
   ]
  },
  {
   "cell_type": "code",
   "execution_count": null,
   "metadata": {},
   "outputs": [],
   "source": [
    "# Model 1\n",
    "X = {1: ['Age', 'Sex', 'BMI'], \n",
    "     2: ['Age', 'Sex', 'BMI', 'EmReg_CR', 'EmReg_ES','CFI_Alt', 'CFI_Ctrl'], \n",
    "     3: ['Age', 'Sex', 'BMI', 'EmReg_CR', 'EmReg_ES','CFI_Alt', 'CFI_Ctrl','YPSQ_EC',\n",
    "\t\t 'YPSQ_EOS', 'YPSQ_SCRE', 'YPSQ_DS', 'YPSQ_HSC']}\n",
    "\n",
    "# Define the outcome variable\n",
    "y = 'EDE_Q_G'\n",
    "\n",
    "# Initiate the HLR object (missing_data and ols_params are optional parameters)\n",
    "hreg = HierarchicalLinearRegression(BingeEating_dropped, X, y, ols_params=None)"
   ]
  },
  {
   "cell_type": "code",
   "execution_count": null,
   "metadata": {},
   "outputs": [],
   "source": [
    "# Output Summary\n",
    "binge_results = hreg.summary()\n",
    "binge_results.to_csv('binge_results.csv')"
   ]
  },
  {
   "cell_type": "code",
   "execution_count": null,
   "metadata": {},
   "outputs": [],
   "source": [
    "# Diagnostics\n",
    "diagnostics = hreg.diagnostics(verbose=True)\n",
    "diagnostics = pd.DataFrame.from_dict(diagnostics)\n",
    "diagnostics.to_csv('binge_diagnostics.csv')"
   ]
  },
  {
   "cell_type": "code",
   "execution_count": null,
   "metadata": {},
   "outputs": [],
   "source": [
    "# Plots\n",
    "hreg.plot_studentized_residuals_vs_fitted()\n",
    "hreg.plot_qq_residuals()\n",
    "hreg.plot_influence()\n",
    "hreg.plot_std_residuals()\n",
    "hreg.plot_histogram_std_residuals()\n",
    "hreg.plot_partial_regression()"
   ]
  },
  {
   "cell_type": "markdown",
   "metadata": {},
   "source": [
    "### Shuffled Model"
   ]
  },
  {
   "cell_type": "code",
   "execution_count": null,
   "metadata": {},
   "outputs": [],
   "source": [
    "# Shuffled to verify spatial autocorrelation\n",
    "binge_shuffled = BingeEating.sample(frac=1)"
   ]
  },
  {
   "cell_type": "code",
   "execution_count": null,
   "metadata": {},
   "outputs": [],
   "source": [
    "#Drop highly multi-collinear variables\n",
    "binge_shuffled = binge_shuffled.drop(columns=['YPSQ_EFSA','YPSQ_O','YPSQ_S','YPSQ_SB'])"
   ]
  },
  {
   "cell_type": "code",
   "execution_count": null,
   "metadata": {},
   "outputs": [],
   "source": [
    "# Shuffled Model 1\n",
    "X = {1: ['Age', 'Sex', 'BMI'], \n",
    "     2: ['Age', 'Sex', 'BMI', 'EmReg_CR', 'EmReg_ES','CFI_Alt', 'CFI_Ctrl'], \n",
    "     3: ['Age', 'Sex', 'BMI', 'EmReg_CR', 'EmReg_ES','CFI_Alt', 'CFI_Ctrl','YPSQ_EC',\n",
    "\t\t 'YPSQ_EOS', 'YPSQ_SCRE', 'YPSQ_DS', 'YPSQ_HSC']}\n",
    "\n",
    "# Define the outcome variable\n",
    "y = 'EDE_Q_G'\n",
    "\n",
    "# Initiate the HLR object (missing_data and ols_params are optional parameters)\n",
    "hreg = HierarchicalLinearRegression(binge_shuffled, X, y, ols_params=None)"
   ]
  },
  {
   "cell_type": "code",
   "execution_count": null,
   "metadata": {},
   "outputs": [],
   "source": [
    "# Output Summary\n",
    "binge_shuffled_results = hreg.summary()\n",
    "binge_shuffled_results.to_csv('binge_shuffled_results.csv')"
   ]
  },
  {
   "cell_type": "code",
   "execution_count": null,
   "metadata": {},
   "outputs": [],
   "source": [
    "# Diagnostics\n",
    "diagnostics = hreg.diagnostics(verbose=True)\n",
    "diagnostics = pd.DataFrame.from_dict(diagnostics)\n",
    "diagnostics.to_csv('binge_shuffled_diagnostics.csv')"
   ]
  },
  {
   "attachments": {},
   "cell_type": "markdown",
   "metadata": {},
   "source": [
    "# OSFED"
   ]
  },
  {
   "cell_type": "markdown",
   "metadata": {},
   "source": [
    "### Model 1"
   ]
  },
  {
   "cell_type": "code",
   "execution_count": null,
   "metadata": {},
   "outputs": [],
   "source": [
    "# Model 1\n",
    "X = {1: ['Age', 'Sex', 'BMI'], \n",
    "     2: ['Age', 'Sex', 'BMI', 'EmReg_CR', 'EmReg_ES','CFI_Alt', 'CFI_Ctrl'], \n",
    "     3: ['Age', 'Sex', 'BMI', 'EmReg_CR', 'EmReg_ES','CFI_Alt', 'CFI_Ctrl','YPSQ_EFSA', \n",
    "\t\t 'YPSQ_S', 'YPSQ_EC', 'YPSQ_O','YPSQ_EOS', 'YPSQ_SCRE', 'YPSQ_DS', 'YPSQ_SB', 'YPSQ_HSC']}\n",
    "\n",
    "# Define the outcome variable\n",
    "y = 'EDE_Q_G'\n",
    "\n",
    "# Initiate the HLR object (missing_data and ols_params are optional parameters)\n",
    "hreg = HierarchicalLinearRegression(OSFED, X, y, ols_params=None)"
   ]
  },
  {
   "cell_type": "code",
   "execution_count": null,
   "metadata": {},
   "outputs": [],
   "source": [
    "# Output Summary\n",
    "osfed_results = hreg.summary()\n",
    "osfed_results.to_csv('osfed_results.csv')"
   ]
  },
  {
   "cell_type": "code",
   "execution_count": null,
   "metadata": {},
   "outputs": [],
   "source": [
    "# Diagnostics\n",
    "diagnostics = hreg.diagnostics(verbose=True)\n",
    "diagnostics = pd.DataFrame.from_dict(diagnostics)\n",
    "diagnostics.to_csv('osfed_diagnostics.csv')"
   ]
  },
  {
   "cell_type": "code",
   "execution_count": null,
   "metadata": {},
   "outputs": [],
   "source": [
    "# Plots\n",
    "hreg.plot_studentized_residuals_vs_fitted()\n",
    "hreg.plot_qq_residuals()\n",
    "hreg.plot_influence()\n",
    "hreg.plot_std_residuals()\n",
    "hreg.plot_histogram_std_residuals()\n",
    "hreg.plot_partial_regression()"
   ]
  },
  {
   "cell_type": "markdown",
   "metadata": {},
   "source": [
    "### Shuffled Model"
   ]
  },
  {
   "cell_type": "code",
   "execution_count": null,
   "metadata": {},
   "outputs": [],
   "source": [
    "# Shuffled to verify spatial autocorrelation\n",
    "osfed_shuffled = OSFED.sample(frac=1)"
   ]
  },
  {
   "cell_type": "code",
   "execution_count": null,
   "metadata": {},
   "outputs": [],
   "source": [
    "# Shuffled Model 1\n",
    "X = {1: ['Age', 'Sex', 'BMI'], \n",
    "     2: ['Age', 'Sex', 'BMI', 'EmReg_CR', 'EmReg_ES','CFI_Alt', 'CFI_Ctrl'], \n",
    "     3: ['Age', 'Sex', 'BMI','EmReg_CR', 'EmReg_ES','CFI_Alt', 'CFI_Ctrl','YPSQ_EFSA', \n",
    "\t     'YPSQ_S', 'YPSQ_EC', 'YPSQ_O','YPSQ_EOS', 'YPSQ_SCRE', 'YPSQ_DS', 'YPSQ_SB', 'YPSQ_HSC']}\n",
    "\n",
    "# Define the outcome variable\n",
    "y = 'EDE_Q_G'\n",
    "\n",
    "# Initiate the HLR object (missing_data and ols_params are optional parameters)\n",
    "hreg = HierarchicalLinearRegression(osfed_shuffled, X, y, ols_params=None)"
   ]
  },
  {
   "cell_type": "code",
   "execution_count": null,
   "metadata": {},
   "outputs": [],
   "source": [
    "# Output Summary\n",
    "osfed_shuffled_results = hreg.summary()\n",
    "osfed_shuffled_results.to_csv('osfed_shuffled_results.csv')"
   ]
  },
  {
   "cell_type": "code",
   "execution_count": null,
   "metadata": {},
   "outputs": [],
   "source": [
    "# Diagnostics\n",
    "diagnostics = hreg.diagnostics(verbose=True)\n",
    "diagnostics = pd.DataFrame.from_dict(diagnostics)\n",
    "diagnostics.to_csv('osfed_shuffled_diagnostics.csv')"
   ]
  },
  {
   "attachments": {},
   "cell_type": "markdown",
   "metadata": {},
   "source": [
    "# Healthy"
   ]
  },
  {
   "cell_type": "markdown",
   "metadata": {},
   "source": [
    "### Model 1"
   ]
  },
  {
   "cell_type": "code",
   "execution_count": null,
   "metadata": {},
   "outputs": [],
   "source": [
    "# Model 1\n",
    "X = {1: ['Age', 'Sex', 'BMI'], \n",
    "     2: ['Age', 'Sex', 'BMI', 'EmReg_CR', 'EmReg_ES','CFI_Alt', 'CFI_Ctrl'], \n",
    "     3: ['Age', 'Sex', 'BMI', 'EmReg_CR', 'EmReg_ES','CFI_Alt', 'CFI_Ctrl','YPSQ_EFSA', \n",
    "\t\t 'YPSQ_S', 'YPSQ_EC', 'YPSQ_O','YPSQ_EOS', 'YPSQ_SCRE', 'YPSQ_DS', 'YPSQ_SB', 'YPSQ_HSC']}\n",
    "\n",
    "# Define the outcome variable\n",
    "y = 'EDE_Q_G'\n",
    "\n",
    "# Initiate the HLR object (missing_data and ols_params are optional parameters)\n",
    "hreg = HierarchicalLinearRegression(healthy, X, y, ols_params=None)"
   ]
  },
  {
   "cell_type": "code",
   "execution_count": null,
   "metadata": {},
   "outputs": [],
   "source": [
    "# Output Summary\n",
    "healthy_results = hreg.summary()\n",
    "healthy_results.to_csv('healthy_results.csv')"
   ]
  },
  {
   "cell_type": "code",
   "execution_count": null,
   "metadata": {},
   "outputs": [],
   "source": [
    "# Diagnostics\n",
    "diagnostics = hreg.diagnostics(verbose=True)\n",
    "diagnostics = pd.DataFrame.from_dict(diagnostics)\n",
    "diagnostics.to_csv('healthy_diagnostics.csv')"
   ]
  },
  {
   "cell_type": "code",
   "execution_count": null,
   "metadata": {},
   "outputs": [],
   "source": [
    "# Plots\n",
    "hreg.plot_studentized_residuals_vs_fitted()\n",
    "hreg.plot_qq_residuals()\n",
    "hreg.plot_influence()\n",
    "hreg.plot_std_residuals()\n",
    "hreg.plot_histogram_std_residuals()\n",
    "hreg.plot_partial_regression()"
   ]
  },
  {
   "cell_type": "markdown",
   "metadata": {},
   "source": [
    "### Shuffled Model"
   ]
  },
  {
   "cell_type": "code",
   "execution_count": null,
   "metadata": {},
   "outputs": [],
   "source": [
    "# Shuffled to verify spatial autocorrelation\n",
    "healthy_shuffled = healthy.sample(frac=1)"
   ]
  },
  {
   "cell_type": "code",
   "execution_count": null,
   "metadata": {},
   "outputs": [],
   "source": [
    "# Shuffled Model 1\n",
    "X = {1: ['Age', 'Sex', 'BMI'], \n",
    "     2: ['Age', 'Sex', 'BMI', 'EmReg_CR', 'EmReg_ES','CFI_Alt', 'CFI_Ctrl'], \n",
    "     3: ['Age', 'Sex', 'BMI','EmReg_CR', 'EmReg_ES','CFI_Alt', 'CFI_Ctrl','YPSQ_EFSA', \n",
    "\t     'YPSQ_S', 'YPSQ_EC', 'YPSQ_O','YPSQ_EOS', 'YPSQ_SCRE', 'YPSQ_DS', 'YPSQ_SB', 'YPSQ_HSC']}\n",
    "\n",
    "# Define the outcome variable\n",
    "y = 'EDE_Q_G'\n",
    "\n",
    "# Initiate the HLR object (missing_data and ols_params are optional parameters)\n",
    "hreg = HierarchicalLinearRegression(healthy_shuffled, X, y, ols_params=None)"
   ]
  },
  {
   "cell_type": "code",
   "execution_count": null,
   "metadata": {},
   "outputs": [],
   "source": [
    "# Output Summary\n",
    "healthy_shuffled_results = hreg.summary()\n",
    "healthy_shuffled_results.to_csv('healthy_shuffled_results.csv')"
   ]
  },
  {
   "cell_type": "code",
   "execution_count": null,
   "metadata": {},
   "outputs": [],
   "source": [
    "# Diagnostics\n",
    "diagnostics = hreg.diagnostics(verbose=True)\n",
    "diagnostics = pd.DataFrame.from_dict(diagnostics)\n",
    "diagnostics.to_csv('healthy_shuffled_diagnostics.csv')"
   ]
  }
 ],
 "metadata": {
  "kernelspec": {
   "display_name": "Python 3",
   "language": "python",
   "name": "python3"
  },
  "language_info": {
   "codemirror_mode": {
    "name": "ipython",
    "version": 3
   },
   "file_extension": ".py",
   "mimetype": "text/x-python",
   "name": "python",
   "nbconvert_exporter": "python",
   "pygments_lexer": "ipython3",
   "version": "3.9.13"
  },
  "orig_nbformat": 4,
  "vscode": {
   "interpreter": {
    "hash": "29e547e41c87afeb9696b6464f69a6550dcc235cb1c66aa90cdc209960d5915f"
   }
  }
 },
 "nbformat": 4,
 "nbformat_minor": 2
}
